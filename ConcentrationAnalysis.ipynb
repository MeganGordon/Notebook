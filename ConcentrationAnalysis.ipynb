{
  "nbformat": 4,
  "nbformat_minor": 0,
  "metadata": {
    "colab": {
      "provenance": [],
      "authorship_tag": "ABX9TyOr7MMQQhWc9xxaPWuCpuHY",
      "include_colab_link": true
    },
    "kernelspec": {
      "name": "python3",
      "display_name": "Python 3"
    },
    "language_info": {
      "name": "python"
    }
  },
  "cells": [
    {
      "cell_type": "markdown",
      "metadata": {
        "id": "view-in-github",
        "colab_type": "text"
      },
      "source": [
        "<a href=\"https://colab.research.google.com/github/MeganGordon/Notebook/blob/main/ConcentrationAnalysis.ipynb\" target=\"_parent\"><img src=\"https://colab.research.google.com/assets/colab-badge.svg\" alt=\"Open In Colab\"/></a>"
      ]
    },
    {
      "cell_type": "code",
      "execution_count": null,
      "metadata": {
        "id": "6qxJWfIEU7S2"
      },
      "outputs": [],
      "source": []
    },
    {
      "cell_type": "markdown",
      "source": [
        "\n",
        "**Purpose**: \n",
        "---\n",
        "Determine the dependencies of different components added to a mixure and how the change in component amounts will change the concentrations of 3 substances \n",
        "\n",
        "\n",
        "---\n",
        "\n",
        "\n",
        "**Idea**:\n",
        "---\n",
        "\n",
        "Let A, B, C, D represent the 4 types of input components  added to the mixure. Let F, G, H, represent the 3 output substances. x_i, y_i are scalars. \n",
        "\n",
        "We have the system of equations: \n",
        "\n",
        "$$ x_1 * A + x_2 * B + x_3 * C + x_4 * D = y_1 * F \\\\\n",
        " x_1 * A + x_2 * B + x_3 * C + x_4 * D = y_2 * G \\\\\n",
        " x_1 * A + x_2 * B + x_3 * C + x_4 * D = y_3 * H \\\\\n",
        "$$\n",
        "This can be represented as the matrix: \n",
        "$$\n",
        "(x_1, x_2, x_3, x_4)(A, B, C, D)^T = (y_1 F, y_2 G, y_3 H)\n",
        "$$\n",
        "equivalently\n",
        "$$\n",
        "(x_1, x_2, x_3, x_4)(A, B, C, D)^T = (y_1 , y_2 , y_3 )(F, G, H)^T \\\\ \n",
        "$$\n",
        "where A, B, C, D are (implicitly) 3x1 vectors. \n",
        "\n",
        "Ideally, we want to represent A, B, C, D in terms of F, G, H. \n",
        "$$ \\begin{pmatrix}\n",
        "x_1 & x_2 & x_3 & x_4 \\end{pmatrix}\\begin{pmatrix} A_f & A_g & A_h \\\\  B_f & B_g & B_h \\\\  C_f & C_g & C_h \\\\ D_f & D_g & D_h\\end{pmatrix} = \\begin{pmatrix}y_1 & y_2 & y_3 \\end{pmatrix} $$\n",
        "\n",
        "---\n",
        "\n",
        "We will have many sets of this data that we can put into the matrix by stacking the rows of the $x_i$ and $y_i$ respective vectors, so we end up with \n",
        "$$ \\begin{pmatrix}\n",
        "x_1 & x_2 & x_3 & x_4 \\\\ \\bar{x}_1 & \\bar{x}_2 & \\bar{x}_3 & \\bar{x}_4 \\\\ \\cdots \\end{pmatrix}\\begin{pmatrix} A_f & A_g & A_h \\\\  B_f & B_g & B_h \\\\  C_f & C_g & C_h \\\\ D_f & D_g & D_h\\end{pmatrix} = \\begin{pmatrix}y_1 & y_2 & y_3 \\\\ \\bar{y}_1 & \\bar{y}_3 & \\bar{y}_3 \\\\ \\cdots \\end{pmatrix} $$\n",
        "\n",
        "\n",
        "We can write this as $X A = Y $ \n",
        "and solve for A by \n",
        "$A = (X^T X)^{-1}X^TY  $\n",
        "\n",
        "--- \n",
        "\n",
        "Now that we understand how the system of linear equations are set up in the ideal (no error) conditions, we will introduce error. \n",
        "\n",
        "We use \n",
        "Linear Regression\n",
        "---\n",
        "$XA = Y + \\epsilon$\n",
        "\n"
      ],
      "metadata": {
        "id": "p_rRa-rMVDTt"
      }
    }
  ]
}